{
 "cells": [
  {
   "cell_type": "code",
   "execution_count": null,
   "metadata": {},
   "outputs": [],
   "source": [
    "# My imports\n",
    "import tensorflow as tf\n",
    "from tensorflow import keras\n",
    "from tensorflow.keras.layers import Dense, MaxPooling2D, Dropout, Activation,Conv1D, Conv2D, Flatten, ZeroPadding2D\n",
    "from tensorflow.keras import optimizers\n",
    "from tensorflow.keras.optimizers import Adam, SGD\n",
    "import numpy as np\n",
    "import matplotlib.pyplot as plt\n",
    "import random\n",
    "import os.path\n",
    "import tkinter as tk\n",
    "from tkinter import filedialog\n",
    "\n",
    "# Desired Dimensions of my images\n",
    "img_width, img_height = 500, 500\n",
    "\n",
    "\n",
    "#Rescaling our images\n",
    "test_datagen = keras.preprocessing.image.ImageDataGenerator(rescale= 1. / 255)\n",
    "\n",
    "# Ensure that the labels below correspond to your data.\n",
    "class_names = ['Label_0', 'Label_1', 'label_2']\n",
    "\n",
    "train_gen = test_datagen.flow_from_directory('TrainingDataPath', \n",
    "                           color_mode = 'rgb', target_size = (img_width,img_height), classes = class_names,\n",
    "                                       batch_size=32, class_mode='categorical')\n",
    "\n",
    "valid_gen = test_datagen.flow_from_directory('ValidationDataPath', \n",
    "                           color_mode = 'rgb', target_size = (img_width,img_height), batch_size = 1, class_mode='categorical')\n",
    "\n",
    "\n",
    "test_images = test_datagen.flow_from_directory('TestingDataPath', \n",
    "                           color_mode = 'rgb', target_size = (img_width,img_height), batch_size = 1, class_mode='categorical')\n",
    "\n",
    "\n"
   ]
  },
  {
   "cell_type": "code",
   "execution_count": null,
   "metadata": {},
   "outputs": [],
   "source": [
    "model = keras.Sequential()\n",
    "model.add(Activation('relu'))\n",
    "model.add(MaxPooling2D(pool_size=(2, 2)))\n",
    "model.add(Conv2D(32, (3, 3), padding = 'same'))\n",
    "model.add(Activation('relu'))\n",
    "model.add(MaxPooling2D(pool_size=(2, 2)))\n",
    "model.add(Conv2D(64, (3, 3), padding = 'same'))\n",
    "model.add(Activation('relu'))\n",
    "model.add(MaxPooling2D(pool_size=(2, 2)))\n",
    "model.add(Flatten())\n",
    "model.add(Dense(64))\n",
    "model.add(Activation('relu'))\n",
    "model.add(Dropout(0.5))\n",
    "model.add(Dense(3))\n",
    "model.add(Activation('sigmoid'))\n",
    "model.compile(optimizer=Adam(0.001), loss='categorical_crossentropy')"
   ]
  },
  {
   "cell_type": "code",
   "execution_count": null,
   "metadata": {},
   "outputs": [],
   "source": [
    "step_size_train = train_gen.n//train_gen.batch_size\n",
    "step_size_valid=valid_gen.n//valid_gen.batch_size\n",
    "model.fit_generator(generator = train_gen,\n",
    "                  steps_per_epoch = step_size_train,\n",
    "                  validation_data = valid_gen,\n",
    "                  validation_steps = step_size_valid, epochs= 30)"
   ]
  },
  {
   "cell_type": "code",
   "execution_count": null,
   "metadata": {},
   "outputs": [],
   "source": [
    "\n",
    "imageIndex1 = 0\n",
    "\n",
    "prediction1 = model.predict(test_images[imageIndex1])\n",
    "\n",
    "displayedImage1 = np.reshape(test_images[imageIndex1][0], (-1,img_height*3))\n",
    "\n",
    "plt.imshow(displayedImage1, cmap=plt.cm.binary)\n",
    "plt.show()\n",
    "print(prediction1)\n",
    "print(\"Final Prediction: \" + class_names[np.argmax(prediction1[0])])\n",
    "print(displayedImage1.shape)"
   ]
  }
 ],
 "metadata": {
  "kernelspec": {
   "display_name": "Python 3",
   "language": "python",
   "name": "python3"
  },
  "language_info": {
   "codemirror_mode": {
    "name": "ipython",
    "version": 3
   },
   "file_extension": ".py",
   "mimetype": "text/x-python",
   "name": "python",
   "nbconvert_exporter": "python",
   "pygments_lexer": "ipython3",
   "version": "3.8.3"
  }
 },
 "nbformat": 4,
 "nbformat_minor": 4
}
